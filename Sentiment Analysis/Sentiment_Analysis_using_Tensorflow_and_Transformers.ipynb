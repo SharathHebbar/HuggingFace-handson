{
  "nbformat": 4,
  "nbformat_minor": 0,
  "metadata": {
    "colab": {
      "provenance": []
    },
    "kernelspec": {
      "name": "python3",
      "display_name": "Python 3"
    },
    "language_info": {
      "name": "python"
    },
    "widgets": {
      "application/vnd.jupyter.widget-state+json": {
        "ea039f22501b40f3afeb9b90244c726f": {
          "model_module": "@jupyter-widgets/controls",
          "model_name": "HBoxModel",
          "model_module_version": "1.5.0",
          "state": {
            "_dom_classes": [],
            "_model_module": "@jupyter-widgets/controls",
            "_model_module_version": "1.5.0",
            "_model_name": "HBoxModel",
            "_view_count": null,
            "_view_module": "@jupyter-widgets/controls",
            "_view_module_version": "1.5.0",
            "_view_name": "HBoxView",
            "box_style": "",
            "children": [
              "IPY_MODEL_fba8f9012d4547b789778abcb24cd07e",
              "IPY_MODEL_c5f2d3246aff4097bf049571964ee1e3",
              "IPY_MODEL_a47a0e99f35344abaf56218e138f822f"
            ],
            "layout": "IPY_MODEL_ef0982f0eae6443da9b2b7a4118435b1"
          }
        },
        "fba8f9012d4547b789778abcb24cd07e": {
          "model_module": "@jupyter-widgets/controls",
          "model_name": "HTMLModel",
          "model_module_version": "1.5.0",
          "state": {
            "_dom_classes": [],
            "_model_module": "@jupyter-widgets/controls",
            "_model_module_version": "1.5.0",
            "_model_name": "HTMLModel",
            "_view_count": null,
            "_view_module": "@jupyter-widgets/controls",
            "_view_module_version": "1.5.0",
            "_view_name": "HTMLView",
            "description": "",
            "description_tooltip": null,
            "layout": "IPY_MODEL_0b60a375ef63433a88c7f8bbea55b191",
            "placeholder": "​",
            "style": "IPY_MODEL_9934a851de924bf7b838259de1a32f92",
            "value": "tokenizer_config.json: 100%"
          }
        },
        "c5f2d3246aff4097bf049571964ee1e3": {
          "model_module": "@jupyter-widgets/controls",
          "model_name": "FloatProgressModel",
          "model_module_version": "1.5.0",
          "state": {
            "_dom_classes": [],
            "_model_module": "@jupyter-widgets/controls",
            "_model_module_version": "1.5.0",
            "_model_name": "FloatProgressModel",
            "_view_count": null,
            "_view_module": "@jupyter-widgets/controls",
            "_view_module_version": "1.5.0",
            "_view_name": "ProgressView",
            "bar_style": "success",
            "description": "",
            "description_tooltip": null,
            "layout": "IPY_MODEL_f3de6e8e6cc34816ac85905ff2f109d4",
            "max": 28,
            "min": 0,
            "orientation": "horizontal",
            "style": "IPY_MODEL_4ef486a2455a4732a86705ede4842c41",
            "value": 28
          }
        },
        "a47a0e99f35344abaf56218e138f822f": {
          "model_module": "@jupyter-widgets/controls",
          "model_name": "HTMLModel",
          "model_module_version": "1.5.0",
          "state": {
            "_dom_classes": [],
            "_model_module": "@jupyter-widgets/controls",
            "_model_module_version": "1.5.0",
            "_model_name": "HTMLModel",
            "_view_count": null,
            "_view_module": "@jupyter-widgets/controls",
            "_view_module_version": "1.5.0",
            "_view_name": "HTMLView",
            "description": "",
            "description_tooltip": null,
            "layout": "IPY_MODEL_f53eb8280a174c0fa5979ca2953b3c9a",
            "placeholder": "​",
            "style": "IPY_MODEL_b520b832628b4038a8ae21739cb9ac40",
            "value": " 28.0/28.0 [00:00&lt;00:00, 462B/s]"
          }
        },
        "ef0982f0eae6443da9b2b7a4118435b1": {
          "model_module": "@jupyter-widgets/base",
          "model_name": "LayoutModel",
          "model_module_version": "1.2.0",
          "state": {
            "_model_module": "@jupyter-widgets/base",
            "_model_module_version": "1.2.0",
            "_model_name": "LayoutModel",
            "_view_count": null,
            "_view_module": "@jupyter-widgets/base",
            "_view_module_version": "1.2.0",
            "_view_name": "LayoutView",
            "align_content": null,
            "align_items": null,
            "align_self": null,
            "border": null,
            "bottom": null,
            "display": null,
            "flex": null,
            "flex_flow": null,
            "grid_area": null,
            "grid_auto_columns": null,
            "grid_auto_flow": null,
            "grid_auto_rows": null,
            "grid_column": null,
            "grid_gap": null,
            "grid_row": null,
            "grid_template_areas": null,
            "grid_template_columns": null,
            "grid_template_rows": null,
            "height": null,
            "justify_content": null,
            "justify_items": null,
            "left": null,
            "margin": null,
            "max_height": null,
            "max_width": null,
            "min_height": null,
            "min_width": null,
            "object_fit": null,
            "object_position": null,
            "order": null,
            "overflow": null,
            "overflow_x": null,
            "overflow_y": null,
            "padding": null,
            "right": null,
            "top": null,
            "visibility": null,
            "width": null
          }
        },
        "0b60a375ef63433a88c7f8bbea55b191": {
          "model_module": "@jupyter-widgets/base",
          "model_name": "LayoutModel",
          "model_module_version": "1.2.0",
          "state": {
            "_model_module": "@jupyter-widgets/base",
            "_model_module_version": "1.2.0",
            "_model_name": "LayoutModel",
            "_view_count": null,
            "_view_module": "@jupyter-widgets/base",
            "_view_module_version": "1.2.0",
            "_view_name": "LayoutView",
            "align_content": null,
            "align_items": null,
            "align_self": null,
            "border": null,
            "bottom": null,
            "display": null,
            "flex": null,
            "flex_flow": null,
            "grid_area": null,
            "grid_auto_columns": null,
            "grid_auto_flow": null,
            "grid_auto_rows": null,
            "grid_column": null,
            "grid_gap": null,
            "grid_row": null,
            "grid_template_areas": null,
            "grid_template_columns": null,
            "grid_template_rows": null,
            "height": null,
            "justify_content": null,
            "justify_items": null,
            "left": null,
            "margin": null,
            "max_height": null,
            "max_width": null,
            "min_height": null,
            "min_width": null,
            "object_fit": null,
            "object_position": null,
            "order": null,
            "overflow": null,
            "overflow_x": null,
            "overflow_y": null,
            "padding": null,
            "right": null,
            "top": null,
            "visibility": null,
            "width": null
          }
        },
        "9934a851de924bf7b838259de1a32f92": {
          "model_module": "@jupyter-widgets/controls",
          "model_name": "DescriptionStyleModel",
          "model_module_version": "1.5.0",
          "state": {
            "_model_module": "@jupyter-widgets/controls",
            "_model_module_version": "1.5.0",
            "_model_name": "DescriptionStyleModel",
            "_view_count": null,
            "_view_module": "@jupyter-widgets/base",
            "_view_module_version": "1.2.0",
            "_view_name": "StyleView",
            "description_width": ""
          }
        },
        "f3de6e8e6cc34816ac85905ff2f109d4": {
          "model_module": "@jupyter-widgets/base",
          "model_name": "LayoutModel",
          "model_module_version": "1.2.0",
          "state": {
            "_model_module": "@jupyter-widgets/base",
            "_model_module_version": "1.2.0",
            "_model_name": "LayoutModel",
            "_view_count": null,
            "_view_module": "@jupyter-widgets/base",
            "_view_module_version": "1.2.0",
            "_view_name": "LayoutView",
            "align_content": null,
            "align_items": null,
            "align_self": null,
            "border": null,
            "bottom": null,
            "display": null,
            "flex": null,
            "flex_flow": null,
            "grid_area": null,
            "grid_auto_columns": null,
            "grid_auto_flow": null,
            "grid_auto_rows": null,
            "grid_column": null,
            "grid_gap": null,
            "grid_row": null,
            "grid_template_areas": null,
            "grid_template_columns": null,
            "grid_template_rows": null,
            "height": null,
            "justify_content": null,
            "justify_items": null,
            "left": null,
            "margin": null,
            "max_height": null,
            "max_width": null,
            "min_height": null,
            "min_width": null,
            "object_fit": null,
            "object_position": null,
            "order": null,
            "overflow": null,
            "overflow_x": null,
            "overflow_y": null,
            "padding": null,
            "right": null,
            "top": null,
            "visibility": null,
            "width": null
          }
        },
        "4ef486a2455a4732a86705ede4842c41": {
          "model_module": "@jupyter-widgets/controls",
          "model_name": "ProgressStyleModel",
          "model_module_version": "1.5.0",
          "state": {
            "_model_module": "@jupyter-widgets/controls",
            "_model_module_version": "1.5.0",
            "_model_name": "ProgressStyleModel",
            "_view_count": null,
            "_view_module": "@jupyter-widgets/base",
            "_view_module_version": "1.2.0",
            "_view_name": "StyleView",
            "bar_color": null,
            "description_width": ""
          }
        },
        "f53eb8280a174c0fa5979ca2953b3c9a": {
          "model_module": "@jupyter-widgets/base",
          "model_name": "LayoutModel",
          "model_module_version": "1.2.0",
          "state": {
            "_model_module": "@jupyter-widgets/base",
            "_model_module_version": "1.2.0",
            "_model_name": "LayoutModel",
            "_view_count": null,
            "_view_module": "@jupyter-widgets/base",
            "_view_module_version": "1.2.0",
            "_view_name": "LayoutView",
            "align_content": null,
            "align_items": null,
            "align_self": null,
            "border": null,
            "bottom": null,
            "display": null,
            "flex": null,
            "flex_flow": null,
            "grid_area": null,
            "grid_auto_columns": null,
            "grid_auto_flow": null,
            "grid_auto_rows": null,
            "grid_column": null,
            "grid_gap": null,
            "grid_row": null,
            "grid_template_areas": null,
            "grid_template_columns": null,
            "grid_template_rows": null,
            "height": null,
            "justify_content": null,
            "justify_items": null,
            "left": null,
            "margin": null,
            "max_height": null,
            "max_width": null,
            "min_height": null,
            "min_width": null,
            "object_fit": null,
            "object_position": null,
            "order": null,
            "overflow": null,
            "overflow_x": null,
            "overflow_y": null,
            "padding": null,
            "right": null,
            "top": null,
            "visibility": null,
            "width": null
          }
        },
        "b520b832628b4038a8ae21739cb9ac40": {
          "model_module": "@jupyter-widgets/controls",
          "model_name": "DescriptionStyleModel",
          "model_module_version": "1.5.0",
          "state": {
            "_model_module": "@jupyter-widgets/controls",
            "_model_module_version": "1.5.0",
            "_model_name": "DescriptionStyleModel",
            "_view_count": null,
            "_view_module": "@jupyter-widgets/base",
            "_view_module_version": "1.2.0",
            "_view_name": "StyleView",
            "description_width": ""
          }
        },
        "19f06476e3164592b2d61563e8db5866": {
          "model_module": "@jupyter-widgets/controls",
          "model_name": "HBoxModel",
          "model_module_version": "1.5.0",
          "state": {
            "_dom_classes": [],
            "_model_module": "@jupyter-widgets/controls",
            "_model_module_version": "1.5.0",
            "_model_name": "HBoxModel",
            "_view_count": null,
            "_view_module": "@jupyter-widgets/controls",
            "_view_module_version": "1.5.0",
            "_view_name": "HBoxView",
            "box_style": "",
            "children": [
              "IPY_MODEL_283ad8812f1644708cd68ba069aac4ab",
              "IPY_MODEL_5c76d32466174e958dabba1c2a0db8c7",
              "IPY_MODEL_c3976cb64b6b491c9af178b526395fb0"
            ],
            "layout": "IPY_MODEL_2a071359208449d59de8c3fa2de0e666"
          }
        },
        "283ad8812f1644708cd68ba069aac4ab": {
          "model_module": "@jupyter-widgets/controls",
          "model_name": "HTMLModel",
          "model_module_version": "1.5.0",
          "state": {
            "_dom_classes": [],
            "_model_module": "@jupyter-widgets/controls",
            "_model_module_version": "1.5.0",
            "_model_name": "HTMLModel",
            "_view_count": null,
            "_view_module": "@jupyter-widgets/controls",
            "_view_module_version": "1.5.0",
            "_view_name": "HTMLView",
            "description": "",
            "description_tooltip": null,
            "layout": "IPY_MODEL_c347fd79e506423d98a095ca7883a41e",
            "placeholder": "​",
            "style": "IPY_MODEL_d6efc08b40df4c51954ff940b951f5a5",
            "value": "config.json: 100%"
          }
        },
        "5c76d32466174e958dabba1c2a0db8c7": {
          "model_module": "@jupyter-widgets/controls",
          "model_name": "FloatProgressModel",
          "model_module_version": "1.5.0",
          "state": {
            "_dom_classes": [],
            "_model_module": "@jupyter-widgets/controls",
            "_model_module_version": "1.5.0",
            "_model_name": "FloatProgressModel",
            "_view_count": null,
            "_view_module": "@jupyter-widgets/controls",
            "_view_module_version": "1.5.0",
            "_view_name": "ProgressView",
            "bar_style": "success",
            "description": "",
            "description_tooltip": null,
            "layout": "IPY_MODEL_d20dfe2c39ec4fffb70f72feaa3a7c80",
            "max": 483,
            "min": 0,
            "orientation": "horizontal",
            "style": "IPY_MODEL_25d0879dc7154761a21e97ecf49d677a",
            "value": 483
          }
        },
        "c3976cb64b6b491c9af178b526395fb0": {
          "model_module": "@jupyter-widgets/controls",
          "model_name": "HTMLModel",
          "model_module_version": "1.5.0",
          "state": {
            "_dom_classes": [],
            "_model_module": "@jupyter-widgets/controls",
            "_model_module_version": "1.5.0",
            "_model_name": "HTMLModel",
            "_view_count": null,
            "_view_module": "@jupyter-widgets/controls",
            "_view_module_version": "1.5.0",
            "_view_name": "HTMLView",
            "description": "",
            "description_tooltip": null,
            "layout": "IPY_MODEL_8d42a2ec4839498ab08f7cc97628ea76",
            "placeholder": "​",
            "style": "IPY_MODEL_ce7af37dd173491e93602bf2dc9e473f",
            "value": " 483/483 [00:00&lt;00:00, 15.3kB/s]"
          }
        },
        "2a071359208449d59de8c3fa2de0e666": {
          "model_module": "@jupyter-widgets/base",
          "model_name": "LayoutModel",
          "model_module_version": "1.2.0",
          "state": {
            "_model_module": "@jupyter-widgets/base",
            "_model_module_version": "1.2.0",
            "_model_name": "LayoutModel",
            "_view_count": null,
            "_view_module": "@jupyter-widgets/base",
            "_view_module_version": "1.2.0",
            "_view_name": "LayoutView",
            "align_content": null,
            "align_items": null,
            "align_self": null,
            "border": null,
            "bottom": null,
            "display": null,
            "flex": null,
            "flex_flow": null,
            "grid_area": null,
            "grid_auto_columns": null,
            "grid_auto_flow": null,
            "grid_auto_rows": null,
            "grid_column": null,
            "grid_gap": null,
            "grid_row": null,
            "grid_template_areas": null,
            "grid_template_columns": null,
            "grid_template_rows": null,
            "height": null,
            "justify_content": null,
            "justify_items": null,
            "left": null,
            "margin": null,
            "max_height": null,
            "max_width": null,
            "min_height": null,
            "min_width": null,
            "object_fit": null,
            "object_position": null,
            "order": null,
            "overflow": null,
            "overflow_x": null,
            "overflow_y": null,
            "padding": null,
            "right": null,
            "top": null,
            "visibility": null,
            "width": null
          }
        },
        "c347fd79e506423d98a095ca7883a41e": {
          "model_module": "@jupyter-widgets/base",
          "model_name": "LayoutModel",
          "model_module_version": "1.2.0",
          "state": {
            "_model_module": "@jupyter-widgets/base",
            "_model_module_version": "1.2.0",
            "_model_name": "LayoutModel",
            "_view_count": null,
            "_view_module": "@jupyter-widgets/base",
            "_view_module_version": "1.2.0",
            "_view_name": "LayoutView",
            "align_content": null,
            "align_items": null,
            "align_self": null,
            "border": null,
            "bottom": null,
            "display": null,
            "flex": null,
            "flex_flow": null,
            "grid_area": null,
            "grid_auto_columns": null,
            "grid_auto_flow": null,
            "grid_auto_rows": null,
            "grid_column": null,
            "grid_gap": null,
            "grid_row": null,
            "grid_template_areas": null,
            "grid_template_columns": null,
            "grid_template_rows": null,
            "height": null,
            "justify_content": null,
            "justify_items": null,
            "left": null,
            "margin": null,
            "max_height": null,
            "max_width": null,
            "min_height": null,
            "min_width": null,
            "object_fit": null,
            "object_position": null,
            "order": null,
            "overflow": null,
            "overflow_x": null,
            "overflow_y": null,
            "padding": null,
            "right": null,
            "top": null,
            "visibility": null,
            "width": null
          }
        },
        "d6efc08b40df4c51954ff940b951f5a5": {
          "model_module": "@jupyter-widgets/controls",
          "model_name": "DescriptionStyleModel",
          "model_module_version": "1.5.0",
          "state": {
            "_model_module": "@jupyter-widgets/controls",
            "_model_module_version": "1.5.0",
            "_model_name": "DescriptionStyleModel",
            "_view_count": null,
            "_view_module": "@jupyter-widgets/base",
            "_view_module_version": "1.2.0",
            "_view_name": "StyleView",
            "description_width": ""
          }
        },
        "d20dfe2c39ec4fffb70f72feaa3a7c80": {
          "model_module": "@jupyter-widgets/base",
          "model_name": "LayoutModel",
          "model_module_version": "1.2.0",
          "state": {
            "_model_module": "@jupyter-widgets/base",
            "_model_module_version": "1.2.0",
            "_model_name": "LayoutModel",
            "_view_count": null,
            "_view_module": "@jupyter-widgets/base",
            "_view_module_version": "1.2.0",
            "_view_name": "LayoutView",
            "align_content": null,
            "align_items": null,
            "align_self": null,
            "border": null,
            "bottom": null,
            "display": null,
            "flex": null,
            "flex_flow": null,
            "grid_area": null,
            "grid_auto_columns": null,
            "grid_auto_flow": null,
            "grid_auto_rows": null,
            "grid_column": null,
            "grid_gap": null,
            "grid_row": null,
            "grid_template_areas": null,
            "grid_template_columns": null,
            "grid_template_rows": null,
            "height": null,
            "justify_content": null,
            "justify_items": null,
            "left": null,
            "margin": null,
            "max_height": null,
            "max_width": null,
            "min_height": null,
            "min_width": null,
            "object_fit": null,
            "object_position": null,
            "order": null,
            "overflow": null,
            "overflow_x": null,
            "overflow_y": null,
            "padding": null,
            "right": null,
            "top": null,
            "visibility": null,
            "width": null
          }
        },
        "25d0879dc7154761a21e97ecf49d677a": {
          "model_module": "@jupyter-widgets/controls",
          "model_name": "ProgressStyleModel",
          "model_module_version": "1.5.0",
          "state": {
            "_model_module": "@jupyter-widgets/controls",
            "_model_module_version": "1.5.0",
            "_model_name": "ProgressStyleModel",
            "_view_count": null,
            "_view_module": "@jupyter-widgets/base",
            "_view_module_version": "1.2.0",
            "_view_name": "StyleView",
            "bar_color": null,
            "description_width": ""
          }
        },
        "8d42a2ec4839498ab08f7cc97628ea76": {
          "model_module": "@jupyter-widgets/base",
          "model_name": "LayoutModel",
          "model_module_version": "1.2.0",
          "state": {
            "_model_module": "@jupyter-widgets/base",
            "_model_module_version": "1.2.0",
            "_model_name": "LayoutModel",
            "_view_count": null,
            "_view_module": "@jupyter-widgets/base",
            "_view_module_version": "1.2.0",
            "_view_name": "LayoutView",
            "align_content": null,
            "align_items": null,
            "align_self": null,
            "border": null,
            "bottom": null,
            "display": null,
            "flex": null,
            "flex_flow": null,
            "grid_area": null,
            "grid_auto_columns": null,
            "grid_auto_flow": null,
            "grid_auto_rows": null,
            "grid_column": null,
            "grid_gap": null,
            "grid_row": null,
            "grid_template_areas": null,
            "grid_template_columns": null,
            "grid_template_rows": null,
            "height": null,
            "justify_content": null,
            "justify_items": null,
            "left": null,
            "margin": null,
            "max_height": null,
            "max_width": null,
            "min_height": null,
            "min_width": null,
            "object_fit": null,
            "object_position": null,
            "order": null,
            "overflow": null,
            "overflow_x": null,
            "overflow_y": null,
            "padding": null,
            "right": null,
            "top": null,
            "visibility": null,
            "width": null
          }
        },
        "ce7af37dd173491e93602bf2dc9e473f": {
          "model_module": "@jupyter-widgets/controls",
          "model_name": "DescriptionStyleModel",
          "model_module_version": "1.5.0",
          "state": {
            "_model_module": "@jupyter-widgets/controls",
            "_model_module_version": "1.5.0",
            "_model_name": "DescriptionStyleModel",
            "_view_count": null,
            "_view_module": "@jupyter-widgets/base",
            "_view_module_version": "1.2.0",
            "_view_name": "StyleView",
            "description_width": ""
          }
        },
        "39eaa9f36f314a6d8cc9f79ae5ecfc97": {
          "model_module": "@jupyter-widgets/controls",
          "model_name": "HBoxModel",
          "model_module_version": "1.5.0",
          "state": {
            "_dom_classes": [],
            "_model_module": "@jupyter-widgets/controls",
            "_model_module_version": "1.5.0",
            "_model_name": "HBoxModel",
            "_view_count": null,
            "_view_module": "@jupyter-widgets/controls",
            "_view_module_version": "1.5.0",
            "_view_name": "HBoxView",
            "box_style": "",
            "children": [
              "IPY_MODEL_522c3da9fc3b479796a8b55d5426a01e",
              "IPY_MODEL_81d4ba6d1e2b4f4daeca4f4cc5f1cec1",
              "IPY_MODEL_7ed8e1ef932b4b06a00b9c5abf743c35"
            ],
            "layout": "IPY_MODEL_d4ad8fde738447b0bc54eeb403b39561"
          }
        },
        "522c3da9fc3b479796a8b55d5426a01e": {
          "model_module": "@jupyter-widgets/controls",
          "model_name": "HTMLModel",
          "model_module_version": "1.5.0",
          "state": {
            "_dom_classes": [],
            "_model_module": "@jupyter-widgets/controls",
            "_model_module_version": "1.5.0",
            "_model_name": "HTMLModel",
            "_view_count": null,
            "_view_module": "@jupyter-widgets/controls",
            "_view_module_version": "1.5.0",
            "_view_name": "HTMLView",
            "description": "",
            "description_tooltip": null,
            "layout": "IPY_MODEL_e090dc2a77ad42728fafd34ca36d6bf5",
            "placeholder": "​",
            "style": "IPY_MODEL_4632cf97922a497ea6995628cd14161a",
            "value": "vocab.txt: 100%"
          }
        },
        "81d4ba6d1e2b4f4daeca4f4cc5f1cec1": {
          "model_module": "@jupyter-widgets/controls",
          "model_name": "FloatProgressModel",
          "model_module_version": "1.5.0",
          "state": {
            "_dom_classes": [],
            "_model_module": "@jupyter-widgets/controls",
            "_model_module_version": "1.5.0",
            "_model_name": "FloatProgressModel",
            "_view_count": null,
            "_view_module": "@jupyter-widgets/controls",
            "_view_module_version": "1.5.0",
            "_view_name": "ProgressView",
            "bar_style": "success",
            "description": "",
            "description_tooltip": null,
            "layout": "IPY_MODEL_d13fd74533324291a5a5af020db9a9d9",
            "max": 231508,
            "min": 0,
            "orientation": "horizontal",
            "style": "IPY_MODEL_25c3fe3d8fe744e3b9a24e0235222158",
            "value": 231508
          }
        },
        "7ed8e1ef932b4b06a00b9c5abf743c35": {
          "model_module": "@jupyter-widgets/controls",
          "model_name": "HTMLModel",
          "model_module_version": "1.5.0",
          "state": {
            "_dom_classes": [],
            "_model_module": "@jupyter-widgets/controls",
            "_model_module_version": "1.5.0",
            "_model_name": "HTMLModel",
            "_view_count": null,
            "_view_module": "@jupyter-widgets/controls",
            "_view_module_version": "1.5.0",
            "_view_name": "HTMLView",
            "description": "",
            "description_tooltip": null,
            "layout": "IPY_MODEL_2a222c5689d9452990cb7a2ae4dd5591",
            "placeholder": "​",
            "style": "IPY_MODEL_42992018a34d471c907de31e38cd6d39",
            "value": " 232k/232k [00:00&lt;00:00, 2.97MB/s]"
          }
        },
        "d4ad8fde738447b0bc54eeb403b39561": {
          "model_module": "@jupyter-widgets/base",
          "model_name": "LayoutModel",
          "model_module_version": "1.2.0",
          "state": {
            "_model_module": "@jupyter-widgets/base",
            "_model_module_version": "1.2.0",
            "_model_name": "LayoutModel",
            "_view_count": null,
            "_view_module": "@jupyter-widgets/base",
            "_view_module_version": "1.2.0",
            "_view_name": "LayoutView",
            "align_content": null,
            "align_items": null,
            "align_self": null,
            "border": null,
            "bottom": null,
            "display": null,
            "flex": null,
            "flex_flow": null,
            "grid_area": null,
            "grid_auto_columns": null,
            "grid_auto_flow": null,
            "grid_auto_rows": null,
            "grid_column": null,
            "grid_gap": null,
            "grid_row": null,
            "grid_template_areas": null,
            "grid_template_columns": null,
            "grid_template_rows": null,
            "height": null,
            "justify_content": null,
            "justify_items": null,
            "left": null,
            "margin": null,
            "max_height": null,
            "max_width": null,
            "min_height": null,
            "min_width": null,
            "object_fit": null,
            "object_position": null,
            "order": null,
            "overflow": null,
            "overflow_x": null,
            "overflow_y": null,
            "padding": null,
            "right": null,
            "top": null,
            "visibility": null,
            "width": null
          }
        },
        "e090dc2a77ad42728fafd34ca36d6bf5": {
          "model_module": "@jupyter-widgets/base",
          "model_name": "LayoutModel",
          "model_module_version": "1.2.0",
          "state": {
            "_model_module": "@jupyter-widgets/base",
            "_model_module_version": "1.2.0",
            "_model_name": "LayoutModel",
            "_view_count": null,
            "_view_module": "@jupyter-widgets/base",
            "_view_module_version": "1.2.0",
            "_view_name": "LayoutView",
            "align_content": null,
            "align_items": null,
            "align_self": null,
            "border": null,
            "bottom": null,
            "display": null,
            "flex": null,
            "flex_flow": null,
            "grid_area": null,
            "grid_auto_columns": null,
            "grid_auto_flow": null,
            "grid_auto_rows": null,
            "grid_column": null,
            "grid_gap": null,
            "grid_row": null,
            "grid_template_areas": null,
            "grid_template_columns": null,
            "grid_template_rows": null,
            "height": null,
            "justify_content": null,
            "justify_items": null,
            "left": null,
            "margin": null,
            "max_height": null,
            "max_width": null,
            "min_height": null,
            "min_width": null,
            "object_fit": null,
            "object_position": null,
            "order": null,
            "overflow": null,
            "overflow_x": null,
            "overflow_y": null,
            "padding": null,
            "right": null,
            "top": null,
            "visibility": null,
            "width": null
          }
        },
        "4632cf97922a497ea6995628cd14161a": {
          "model_module": "@jupyter-widgets/controls",
          "model_name": "DescriptionStyleModel",
          "model_module_version": "1.5.0",
          "state": {
            "_model_module": "@jupyter-widgets/controls",
            "_model_module_version": "1.5.0",
            "_model_name": "DescriptionStyleModel",
            "_view_count": null,
            "_view_module": "@jupyter-widgets/base",
            "_view_module_version": "1.2.0",
            "_view_name": "StyleView",
            "description_width": ""
          }
        },
        "d13fd74533324291a5a5af020db9a9d9": {
          "model_module": "@jupyter-widgets/base",
          "model_name": "LayoutModel",
          "model_module_version": "1.2.0",
          "state": {
            "_model_module": "@jupyter-widgets/base",
            "_model_module_version": "1.2.0",
            "_model_name": "LayoutModel",
            "_view_count": null,
            "_view_module": "@jupyter-widgets/base",
            "_view_module_version": "1.2.0",
            "_view_name": "LayoutView",
            "align_content": null,
            "align_items": null,
            "align_self": null,
            "border": null,
            "bottom": null,
            "display": null,
            "flex": null,
            "flex_flow": null,
            "grid_area": null,
            "grid_auto_columns": null,
            "grid_auto_flow": null,
            "grid_auto_rows": null,
            "grid_column": null,
            "grid_gap": null,
            "grid_row": null,
            "grid_template_areas": null,
            "grid_template_columns": null,
            "grid_template_rows": null,
            "height": null,
            "justify_content": null,
            "justify_items": null,
            "left": null,
            "margin": null,
            "max_height": null,
            "max_width": null,
            "min_height": null,
            "min_width": null,
            "object_fit": null,
            "object_position": null,
            "order": null,
            "overflow": null,
            "overflow_x": null,
            "overflow_y": null,
            "padding": null,
            "right": null,
            "top": null,
            "visibility": null,
            "width": null
          }
        },
        "25c3fe3d8fe744e3b9a24e0235222158": {
          "model_module": "@jupyter-widgets/controls",
          "model_name": "ProgressStyleModel",
          "model_module_version": "1.5.0",
          "state": {
            "_model_module": "@jupyter-widgets/controls",
            "_model_module_version": "1.5.0",
            "_model_name": "ProgressStyleModel",
            "_view_count": null,
            "_view_module": "@jupyter-widgets/base",
            "_view_module_version": "1.2.0",
            "_view_name": "StyleView",
            "bar_color": null,
            "description_width": ""
          }
        },
        "2a222c5689d9452990cb7a2ae4dd5591": {
          "model_module": "@jupyter-widgets/base",
          "model_name": "LayoutModel",
          "model_module_version": "1.2.0",
          "state": {
            "_model_module": "@jupyter-widgets/base",
            "_model_module_version": "1.2.0",
            "_model_name": "LayoutModel",
            "_view_count": null,
            "_view_module": "@jupyter-widgets/base",
            "_view_module_version": "1.2.0",
            "_view_name": "LayoutView",
            "align_content": null,
            "align_items": null,
            "align_self": null,
            "border": null,
            "bottom": null,
            "display": null,
            "flex": null,
            "flex_flow": null,
            "grid_area": null,
            "grid_auto_columns": null,
            "grid_auto_flow": null,
            "grid_auto_rows": null,
            "grid_column": null,
            "grid_gap": null,
            "grid_row": null,
            "grid_template_areas": null,
            "grid_template_columns": null,
            "grid_template_rows": null,
            "height": null,
            "justify_content": null,
            "justify_items": null,
            "left": null,
            "margin": null,
            "max_height": null,
            "max_width": null,
            "min_height": null,
            "min_width": null,
            "object_fit": null,
            "object_position": null,
            "order": null,
            "overflow": null,
            "overflow_x": null,
            "overflow_y": null,
            "padding": null,
            "right": null,
            "top": null,
            "visibility": null,
            "width": null
          }
        },
        "42992018a34d471c907de31e38cd6d39": {
          "model_module": "@jupyter-widgets/controls",
          "model_name": "DescriptionStyleModel",
          "model_module_version": "1.5.0",
          "state": {
            "_model_module": "@jupyter-widgets/controls",
            "_model_module_version": "1.5.0",
            "_model_name": "DescriptionStyleModel",
            "_view_count": null,
            "_view_module": "@jupyter-widgets/base",
            "_view_module_version": "1.2.0",
            "_view_name": "StyleView",
            "description_width": ""
          }
        },
        "191700e33d0f4ae7a2aafce9d822d998": {
          "model_module": "@jupyter-widgets/controls",
          "model_name": "HBoxModel",
          "model_module_version": "1.5.0",
          "state": {
            "_dom_classes": [],
            "_model_module": "@jupyter-widgets/controls",
            "_model_module_version": "1.5.0",
            "_model_name": "HBoxModel",
            "_view_count": null,
            "_view_module": "@jupyter-widgets/controls",
            "_view_module_version": "1.5.0",
            "_view_name": "HBoxView",
            "box_style": "",
            "children": [
              "IPY_MODEL_cdba665b60274b159371e00f4a750c59",
              "IPY_MODEL_e3a61fde4e9349d9a8a34f185d8562e9",
              "IPY_MODEL_053cd00cbd294b80b44f8b18d56dc1b3"
            ],
            "layout": "IPY_MODEL_0f8c901ec64242d09577b9961240b20e"
          }
        },
        "cdba665b60274b159371e00f4a750c59": {
          "model_module": "@jupyter-widgets/controls",
          "model_name": "HTMLModel",
          "model_module_version": "1.5.0",
          "state": {
            "_dom_classes": [],
            "_model_module": "@jupyter-widgets/controls",
            "_model_module_version": "1.5.0",
            "_model_name": "HTMLModel",
            "_view_count": null,
            "_view_module": "@jupyter-widgets/controls",
            "_view_module_version": "1.5.0",
            "_view_name": "HTMLView",
            "description": "",
            "description_tooltip": null,
            "layout": "IPY_MODEL_4e3fccb4d38247afaffca2dbccf32cde",
            "placeholder": "​",
            "style": "IPY_MODEL_d50ce516ceb3493aa67fc6ae173f72c5",
            "value": "tokenizer.json: 100%"
          }
        },
        "e3a61fde4e9349d9a8a34f185d8562e9": {
          "model_module": "@jupyter-widgets/controls",
          "model_name": "FloatProgressModel",
          "model_module_version": "1.5.0",
          "state": {
            "_dom_classes": [],
            "_model_module": "@jupyter-widgets/controls",
            "_model_module_version": "1.5.0",
            "_model_name": "FloatProgressModel",
            "_view_count": null,
            "_view_module": "@jupyter-widgets/controls",
            "_view_module_version": "1.5.0",
            "_view_name": "ProgressView",
            "bar_style": "success",
            "description": "",
            "description_tooltip": null,
            "layout": "IPY_MODEL_0a5ec28fea7246aaa79966289c78995e",
            "max": 466062,
            "min": 0,
            "orientation": "horizontal",
            "style": "IPY_MODEL_c5db2fcfcfa243aabd33a77d6dfbfdf8",
            "value": 466062
          }
        },
        "053cd00cbd294b80b44f8b18d56dc1b3": {
          "model_module": "@jupyter-widgets/controls",
          "model_name": "HTMLModel",
          "model_module_version": "1.5.0",
          "state": {
            "_dom_classes": [],
            "_model_module": "@jupyter-widgets/controls",
            "_model_module_version": "1.5.0",
            "_model_name": "HTMLModel",
            "_view_count": null,
            "_view_module": "@jupyter-widgets/controls",
            "_view_module_version": "1.5.0",
            "_view_name": "HTMLView",
            "description": "",
            "description_tooltip": null,
            "layout": "IPY_MODEL_b02522720b1e4c30838792891e760fc8",
            "placeholder": "​",
            "style": "IPY_MODEL_59dd8599c13044a0ba5d80025444c9fa",
            "value": " 466k/466k [00:00&lt;00:00, 5.09MB/s]"
          }
        },
        "0f8c901ec64242d09577b9961240b20e": {
          "model_module": "@jupyter-widgets/base",
          "model_name": "LayoutModel",
          "model_module_version": "1.2.0",
          "state": {
            "_model_module": "@jupyter-widgets/base",
            "_model_module_version": "1.2.0",
            "_model_name": "LayoutModel",
            "_view_count": null,
            "_view_module": "@jupyter-widgets/base",
            "_view_module_version": "1.2.0",
            "_view_name": "LayoutView",
            "align_content": null,
            "align_items": null,
            "align_self": null,
            "border": null,
            "bottom": null,
            "display": null,
            "flex": null,
            "flex_flow": null,
            "grid_area": null,
            "grid_auto_columns": null,
            "grid_auto_flow": null,
            "grid_auto_rows": null,
            "grid_column": null,
            "grid_gap": null,
            "grid_row": null,
            "grid_template_areas": null,
            "grid_template_columns": null,
            "grid_template_rows": null,
            "height": null,
            "justify_content": null,
            "justify_items": null,
            "left": null,
            "margin": null,
            "max_height": null,
            "max_width": null,
            "min_height": null,
            "min_width": null,
            "object_fit": null,
            "object_position": null,
            "order": null,
            "overflow": null,
            "overflow_x": null,
            "overflow_y": null,
            "padding": null,
            "right": null,
            "top": null,
            "visibility": null,
            "width": null
          }
        },
        "4e3fccb4d38247afaffca2dbccf32cde": {
          "model_module": "@jupyter-widgets/base",
          "model_name": "LayoutModel",
          "model_module_version": "1.2.0",
          "state": {
            "_model_module": "@jupyter-widgets/base",
            "_model_module_version": "1.2.0",
            "_model_name": "LayoutModel",
            "_view_count": null,
            "_view_module": "@jupyter-widgets/base",
            "_view_module_version": "1.2.0",
            "_view_name": "LayoutView",
            "align_content": null,
            "align_items": null,
            "align_self": null,
            "border": null,
            "bottom": null,
            "display": null,
            "flex": null,
            "flex_flow": null,
            "grid_area": null,
            "grid_auto_columns": null,
            "grid_auto_flow": null,
            "grid_auto_rows": null,
            "grid_column": null,
            "grid_gap": null,
            "grid_row": null,
            "grid_template_areas": null,
            "grid_template_columns": null,
            "grid_template_rows": null,
            "height": null,
            "justify_content": null,
            "justify_items": null,
            "left": null,
            "margin": null,
            "max_height": null,
            "max_width": null,
            "min_height": null,
            "min_width": null,
            "object_fit": null,
            "object_position": null,
            "order": null,
            "overflow": null,
            "overflow_x": null,
            "overflow_y": null,
            "padding": null,
            "right": null,
            "top": null,
            "visibility": null,
            "width": null
          }
        },
        "d50ce516ceb3493aa67fc6ae173f72c5": {
          "model_module": "@jupyter-widgets/controls",
          "model_name": "DescriptionStyleModel",
          "model_module_version": "1.5.0",
          "state": {
            "_model_module": "@jupyter-widgets/controls",
            "_model_module_version": "1.5.0",
            "_model_name": "DescriptionStyleModel",
            "_view_count": null,
            "_view_module": "@jupyter-widgets/base",
            "_view_module_version": "1.2.0",
            "_view_name": "StyleView",
            "description_width": ""
          }
        },
        "0a5ec28fea7246aaa79966289c78995e": {
          "model_module": "@jupyter-widgets/base",
          "model_name": "LayoutModel",
          "model_module_version": "1.2.0",
          "state": {
            "_model_module": "@jupyter-widgets/base",
            "_model_module_version": "1.2.0",
            "_model_name": "LayoutModel",
            "_view_count": null,
            "_view_module": "@jupyter-widgets/base",
            "_view_module_version": "1.2.0",
            "_view_name": "LayoutView",
            "align_content": null,
            "align_items": null,
            "align_self": null,
            "border": null,
            "bottom": null,
            "display": null,
            "flex": null,
            "flex_flow": null,
            "grid_area": null,
            "grid_auto_columns": null,
            "grid_auto_flow": null,
            "grid_auto_rows": null,
            "grid_column": null,
            "grid_gap": null,
            "grid_row": null,
            "grid_template_areas": null,
            "grid_template_columns": null,
            "grid_template_rows": null,
            "height": null,
            "justify_content": null,
            "justify_items": null,
            "left": null,
            "margin": null,
            "max_height": null,
            "max_width": null,
            "min_height": null,
            "min_width": null,
            "object_fit": null,
            "object_position": null,
            "order": null,
            "overflow": null,
            "overflow_x": null,
            "overflow_y": null,
            "padding": null,
            "right": null,
            "top": null,
            "visibility": null,
            "width": null
          }
        },
        "c5db2fcfcfa243aabd33a77d6dfbfdf8": {
          "model_module": "@jupyter-widgets/controls",
          "model_name": "ProgressStyleModel",
          "model_module_version": "1.5.0",
          "state": {
            "_model_module": "@jupyter-widgets/controls",
            "_model_module_version": "1.5.0",
            "_model_name": "ProgressStyleModel",
            "_view_count": null,
            "_view_module": "@jupyter-widgets/base",
            "_view_module_version": "1.2.0",
            "_view_name": "StyleView",
            "bar_color": null,
            "description_width": ""
          }
        },
        "b02522720b1e4c30838792891e760fc8": {
          "model_module": "@jupyter-widgets/base",
          "model_name": "LayoutModel",
          "model_module_version": "1.2.0",
          "state": {
            "_model_module": "@jupyter-widgets/base",
            "_model_module_version": "1.2.0",
            "_model_name": "LayoutModel",
            "_view_count": null,
            "_view_module": "@jupyter-widgets/base",
            "_view_module_version": "1.2.0",
            "_view_name": "LayoutView",
            "align_content": null,
            "align_items": null,
            "align_self": null,
            "border": null,
            "bottom": null,
            "display": null,
            "flex": null,
            "flex_flow": null,
            "grid_area": null,
            "grid_auto_columns": null,
            "grid_auto_flow": null,
            "grid_auto_rows": null,
            "grid_column": null,
            "grid_gap": null,
            "grid_row": null,
            "grid_template_areas": null,
            "grid_template_columns": null,
            "grid_template_rows": null,
            "height": null,
            "justify_content": null,
            "justify_items": null,
            "left": null,
            "margin": null,
            "max_height": null,
            "max_width": null,
            "min_height": null,
            "min_width": null,
            "object_fit": null,
            "object_position": null,
            "order": null,
            "overflow": null,
            "overflow_x": null,
            "overflow_y": null,
            "padding": null,
            "right": null,
            "top": null,
            "visibility": null,
            "width": null
          }
        },
        "59dd8599c13044a0ba5d80025444c9fa": {
          "model_module": "@jupyter-widgets/controls",
          "model_name": "DescriptionStyleModel",
          "model_module_version": "1.5.0",
          "state": {
            "_model_module": "@jupyter-widgets/controls",
            "_model_module_version": "1.5.0",
            "_model_name": "DescriptionStyleModel",
            "_view_count": null,
            "_view_module": "@jupyter-widgets/base",
            "_view_module_version": "1.2.0",
            "_view_name": "StyleView",
            "description_width": ""
          }
        }
      }
    }
  },
  "cells": [
    {
      "cell_type": "markdown",
      "source": [
        "# Sentiment Analysis\n",
        "\n",
        "## Sentiment 140 Dataset\n",
        "\n",
        "- Developing a sentiment analysis model using Tensorflow that assigns a sentiment by looking at the review of the product\n",
        "- will be using pre-built embeddings for data dictionary\n",
        "- will be training a transformer based model\n",
        "- will be aiming to acheive a higher Precision\n",
        "- Use TF Serving to deploy the model as an API\n",
        "- Build a TF Serving client to interact with the API. The client should also be able to continuously accept data entered by the user and provide the sentiment for the review entered by the user."
      ],
      "metadata": {
        "id": "UiSc3-rX0Auk"
      }
    },
    {
      "cell_type": "markdown",
      "source": [
        "# Installing Necessary Libraries"
      ],
      "metadata": {
        "id": "fMrJkuQt0t4n"
      }
    },
    {
      "cell_type": "code",
      "source": [
        "! pip install Sentencepiece\n",
        "! pip install transformers\n"
      ],
      "metadata": {
        "id": "qa35iwgcWe3s"
      },
      "execution_count": null,
      "outputs": []
    },
    {
      "cell_type": "markdown",
      "source": [
        "# Importing Libraries"
      ],
      "metadata": {
        "id": "Fll9qEvC0xQn"
      }
    },
    {
      "cell_type": "code",
      "source": [
        "import os\n",
        "\n",
        "import pandas as pd\n",
        "import numpy as np\n",
        "\n",
        "import matplotlib.pyplot as plt\n",
        "import seaborn as sns\n",
        "from wordcloud import WordCloud\n",
        "\n",
        "import tensorflow as tf\n",
        "\n",
        "import transformers\n",
        "from transformers import (\n",
        "    AutoTokenizer,\n",
        "    TFDistilBertModel,\n",
        "    TFBertModel,\n",
        "    TFRobertaModel\n",
        ")\n",
        "from tensorflow.keras.optimizers import (\n",
        "    Adam,\n",
        "    SGD\n",
        ")\n",
        "\n",
        "from tensorflow.keras.utils import plot_model\n",
        "\n",
        "import re\n",
        "\n",
        "import pickle\n",
        "\n",
        "from sklearn.model_selection import train_test_split\n",
        "from sklearn.feature_extraction.text import TfidfVectorizer\n",
        "\n",
        "from sklearn.metrics import (\n",
        "    accuracy_score,\n",
        "    precision_score,\n",
        "    recall_score,\n",
        "    f1_score,\n",
        "    classification_report,\n",
        "    confusion_matrix\n",
        ")\n",
        "\n",
        "import nltk\n",
        "from nltk.corpus import stopwords\n",
        "from nltk.tokenize import word_tokenize\n",
        "from nltk.stem import WordNetLemmatizer"
      ],
      "metadata": {
        "id": "azXCpY8yWe6M"
      },
      "execution_count": null,
      "outputs": []
    },
    {
      "cell_type": "code",
      "source": [
        "nltk.download('stopwords')\n",
        "nltk.download('punkt')\n",
        "nltk.download('wordnet')\n",
        "nltk.download('corpus')"
      ],
      "metadata": {
        "id": "Aw_RqzwlWe8r"
      },
      "execution_count": null,
      "outputs": []
    },
    {
      "cell_type": "code",
      "source": [
        "stop_words = set(stopwords.words('english'))"
      ],
      "metadata": {
        "id": "jEv3X50EWe_G"
      },
      "execution_count": null,
      "outputs": []
    },
    {
      "cell_type": "code",
      "source": [
        "data = pd.read_csv(\n",
        "    \"\",\n",
        "    encoding='latin-1',\n",
        "    names=(\n",
        "        'target',\n",
        "        'id',\n",
        "        'date',\n",
        "        'flag',\n",
        "        'user',\n",
        "        'text'\n",
        "    )\n",
        ")\n",
        "data.shape"
      ],
      "metadata": {
        "id": "gDOvIF39WfBe",
        "colab": {
          "base_uri": "https://localhost:8080/",
          "height": 245
        },
        "outputId": "b22b747e-d71a-432c-fa6b-d41141978937"
      },
      "execution_count": null,
      "outputs": [
        {
          "output_type": "error",
          "ename": "NameError",
          "evalue": "ignored",
          "traceback": [
            "\u001b[0;31m---------------------------------------------------------------------------\u001b[0m",
            "\u001b[0;31mNameError\u001b[0m                                 Traceback (most recent call last)",
            "\u001b[0;32m<ipython-input-1-91dc08243397>\u001b[0m in \u001b[0;36m<cell line: 1>\u001b[0;34m()\u001b[0m\n\u001b[0;32m----> 1\u001b[0;31m data = pd.read_csv(\n\u001b[0m\u001b[1;32m      2\u001b[0m     \u001b[0;34m\"\"\u001b[0m\u001b[0;34m,\u001b[0m\u001b[0;34m\u001b[0m\u001b[0;34m\u001b[0m\u001b[0m\n\u001b[1;32m      3\u001b[0m     \u001b[0mencoding\u001b[0m\u001b[0;34m=\u001b[0m\u001b[0;34m'latin-1'\u001b[0m\u001b[0;34m,\u001b[0m\u001b[0;34m\u001b[0m\u001b[0;34m\u001b[0m\u001b[0m\n\u001b[1;32m      4\u001b[0m     names=(\n\u001b[1;32m      5\u001b[0m         \u001b[0;34m'target'\u001b[0m\u001b[0;34m,\u001b[0m\u001b[0;34m\u001b[0m\u001b[0;34m\u001b[0m\u001b[0m\n",
            "\u001b[0;31mNameError\u001b[0m: name 'pd' is not defined"
          ]
        }
      ]
    },
    {
      "cell_type": "code",
      "source": [
        "data.head()"
      ],
      "metadata": {
        "id": "QRWZD43jWfD0"
      },
      "execution_count": null,
      "outputs": []
    },
    {
      "cell_type": "code",
      "source": [
        "data.tail()"
      ],
      "metadata": {
        "id": "cInuWM-U3BnE"
      },
      "execution_count": null,
      "outputs": []
    },
    {
      "cell_type": "code",
      "source": [
        "data.isnull().sum()"
      ],
      "metadata": {
        "id": "yEkJ1NTl3Bjt"
      },
      "execution_count": null,
      "outputs": []
    },
    {
      "cell_type": "code",
      "source": [
        "data['target'].value_counts()"
      ],
      "metadata": {
        "id": "ktw-RSgD3Bhs"
      },
      "execution_count": null,
      "outputs": []
    },
    {
      "cell_type": "code",
      "source": [
        "data = data[['target', 'text']]\n",
        "\n",
        "data['target'] = data['target'].replace(4, 1)"
      ],
      "metadata": {
        "id": "NNVPdvPQ3Bfw"
      },
      "execution_count": null,
      "outputs": []
    },
    {
      "cell_type": "code",
      "source": [
        "ax = data.groupby('target').count().plot(\n",
        "    kind='bar',\n",
        "    title='Distribution of Data',\n",
        "    legend=False\n",
        ")\n",
        "\n",
        "ax.set_xticklabels(\n",
        "    ['Negative', 'Positive'],\n",
        "    rotation=0\n",
        ")"
      ],
      "metadata": {
        "id": "W4a3JYiU3Bdn"
      },
      "execution_count": null,
      "outputs": []
    },
    {
      "cell_type": "code",
      "source": [
        "data.head()"
      ],
      "metadata": {
        "id": "uAWcc3PI3pSL"
      },
      "execution_count": null,
      "outputs": []
    },
    {
      "cell_type": "code",
      "source": [
        "text, sentiment = list(data['text']), list(data['target'])"
      ],
      "metadata": {
        "id": "FpJ3LEol3pO1"
      },
      "execution_count": null,
      "outputs": []
    },
    {
      "cell_type": "markdown",
      "source": [
        "# Preprocessing of text\n",
        "\n",
        "1. LowerCase: Each text is converted into lowercase.\n",
        "2. Replacing URLs: Links starting with \"http\" or \"https\" or \"www\" are replaced by URL.\n",
        "3. Replacing Emojis: Replace emojis by using a pre-defined dictionary containing emojis along with their meaning Ex: EMOJIsmile.\n",
        "4. Replacing Usernames: Replace @Username with the word \"USER\".\n",
        "5. Removing Non-Alphabets: Replacing characters except Digits and Alphabets with a space.\n",
        "6. Removing Consecutive letters: 3 or more consecutive letters are replaced by 2 letters. Ex: \"Heyyy\" to \"Heyy\"\n",
        "7. Removing Short Words: Words with length less than 2 are removed\n",
        "8. Removing Stopwords: Stopwords are the English words which does not add much meaning to the sentence. They can safely be ignored without the meaning of the sentence. Ex: the, he, have.\n",
        "9. Lemmatizing: Lemmatization is the process of converting a word to its base form. Ex: \"Great\" to \"Good\"."
      ],
      "metadata": {
        "id": "usw-s_9K3wD1"
      }
    },
    {
      "cell_type": "code",
      "source": [
        "emojis = {\n",
        "    ':)': 'smile', ':-)': 'smile', ';d': 'wink', ':-E': 'vampire', ':(': 'sad',\n",
        "    ':-(': 'sad', ':-<': 'sad', ':P': 'raspberry', ':O': 'surprised',\n",
        "    ':-@': 'shocked', ':@': 'shocked',':-$': 'confused', ':\\\\': 'annoyed',\n",
        "    ':#': 'mute', ':X': 'mute', ':^)': 'smile', ':-&': 'confused', '$_$': 'greedy',\n",
        "    '@@': 'eyeroll', ':-!': 'confused', ':-D': 'smile', ':-0': 'yell', 'O.o': 'confused',\n",
        "    '<(-_-)>': 'robot', 'd[-_-]b': 'dj', \":'-)\": 'sadsmile', ';)': 'wink',\n",
        "    ';-)': 'wink', 'O:-)': 'angel','O*-)': 'angel','(:-D': 'gossip', '=^.^=': 'cat'\n",
        "}"
      ],
      "metadata": {
        "id": "2YhfYQro3pMr"
      },
      "execution_count": null,
      "outputs": []
    },
    {
      "cell_type": "code",
      "source": [
        "def preprocess(text):\n",
        "  processed_text = []\n",
        "\n",
        "  wordlemm = WordNetLemmatizer()\n",
        "\n",
        "  url_pattern = r\"((http://)[^ ]*|(https://)[^ ]*|( www\\.)[^ ]*)\"\n",
        "  user_pattern = \"@[^\\s]\"\n",
        "  alpha_pattern = \"[^a-zA-Z0-9]\"\n",
        "  sequence_pattern = r\"(.)\\1\\1+\"\n",
        "  seq_replace_pattern = r\"\\1\\1\"\n",
        "\n",
        "  for tweet in text:\n",
        "    tweet = tweet.lower()\n",
        "    tweet = re.sub(url_pattern, ' URL', tweet)\n",
        "    for emoji in emojis.keys():\n",
        "      tweet = tweet.replace(emoji, \"EMOJI\" + emojis[emoji])\n",
        "\n",
        "    tweet = re.sub(user_pattern, ' USER', tweet)\n",
        "    tweet = re.sub(alpha_pattern, \" \", tweet)\n",
        "    tweet = re.sub(sequence_pattern, seq_replace_pattern, tweet)\n",
        "\n",
        "    tweet_tokens = word_tokenize(tweet)\n",
        "    filtered_words = [word for word in tweet_tokens if word not in stop_words]\n",
        "\n",
        "    tweetwords = \"\"\n",
        "\n",
        "    for word in tweet.split():\n",
        "      if len(word) > 1:\n",
        "        word = wordlemm.lemmatize(word)\n",
        "        tweetwords += (word + \" \")\n",
        "\n",
        "    processed_text.append(tweetwords)\n",
        "\n",
        "  return processed_text"
      ],
      "metadata": {
        "id": "bjNfYbC63pKU"
      },
      "execution_count": null,
      "outputs": []
    },
    {
      "cell_type": "code",
      "source": [
        "%%time\n",
        "\n",
        "processed_text = preprocess(text)"
      ],
      "metadata": {
        "id": "dGwkYSvn3pIN"
      },
      "execution_count": null,
      "outputs": []
    },
    {
      "cell_type": "code",
      "source": [
        "data['text'] = processed_text\n",
        "data['text'].shape"
      ],
      "metadata": {
        "id": "9C9toroI3pGA"
      },
      "execution_count": null,
      "outputs": []
    },
    {
      "cell_type": "code",
      "source": [
        "data = data.sample(800000)\n",
        "data.shape"
      ],
      "metadata": {
        "id": "mj7oF9O43pDi"
      },
      "execution_count": null,
      "outputs": []
    },
    {
      "cell_type": "code",
      "source": [
        "data.target.value_counts()"
      ],
      "metadata": {
        "id": "bTdWj3nZ3pBO"
      },
      "execution_count": null,
      "outputs": []
    },
    {
      "cell_type": "markdown",
      "source": [
        "# Plotting Word Cloud\n",
        "\n",
        "## Word Cloud For Negative Tweets"
      ],
      "metadata": {
        "id": "5JkpbURu_4_p"
      }
    },
    {
      "cell_type": "code",
      "source": [
        "data_neg = processed_text[:800000]\n",
        "plt.figure(figsize=(20, 20))\n",
        "\n",
        "wc = WordCloud(\n",
        "    max_words=1000,\n",
        "    width=1600,\n",
        "    height=800,\n",
        "    collocations=False\n",
        ").generate(\" \".join(data_neg))\n",
        "\n",
        "plt.imshow(wc)"
      ],
      "metadata": {
        "id": "L_7n1gzP3o_L"
      },
      "execution_count": null,
      "outputs": []
    },
    {
      "cell_type": "markdown",
      "source": [
        "## Word Cloud for Positive Tweets"
      ],
      "metadata": {
        "id": "GVfzcMWDAkow"
      }
    },
    {
      "cell_type": "code",
      "source": [
        "data_pos = processed_text[800000:]\n",
        "plt.figure(figsize=(20, 20))\n",
        "\n",
        "wc = WordCloud(\n",
        "    max_words=1000,\n",
        "    width=1600,\n",
        "    height=800,\n",
        "    collocations=False\n",
        ").generate(\" \".join(data_pos))\n",
        "\n",
        "plt.imshow(wc)"
      ],
      "metadata": {
        "id": "1uVHOiho3o6m"
      },
      "execution_count": null,
      "outputs": []
    },
    {
      "cell_type": "markdown",
      "source": [
        "# Creating Train and Test Data"
      ],
      "metadata": {
        "id": "_Tgder8WA0AT"
      }
    },
    {
      "cell_type": "code",
      "source": [
        "X_train, x_test, Y_train, y_test = train_test_split(\n",
        "    data,\n",
        "    stratify=data['target'],\n",
        "    test_size=0.2,\n",
        "    random_state=42\n",
        ")\n",
        "\n",
        "x_train, x_val, y_train, y_val = train_test_split(\n",
        "    X_train,\n",
        "    Y_train,\n",
        "    stratify=Y_train,\n",
        "    test_size=0.2,\n",
        "    random_state=42\n",
        "\n",
        ")"
      ],
      "metadata": {
        "id": "6QWhTS873Bbd"
      },
      "execution_count": null,
      "outputs": []
    },
    {
      "cell_type": "code",
      "source": [
        "x_train.shape, y_train.shape, x_val.shape, y_val.shape, x_test.shape, y_test.shape"
      ],
      "metadata": {
        "id": "OUV9dGRt3BZT"
      },
      "execution_count": null,
      "outputs": []
    },
    {
      "cell_type": "markdown",
      "source": [
        "# Encoding of Data\n",
        "\n",
        "1. Tokenizer\n",
        "2. Batch Encode Plus\n",
        "3. Encode Plus\n",
        "4. Encode\n",
        "5. Tokenize and then get token ids"
      ],
      "metadata": {
        "id": "yJZp17S9EAgi"
      }
    },
    {
      "cell_type": "code",
      "source": [
        "from transformers import AutoTokenizer\n",
        "\n",
        "db_model_name = 'distilbert-base-uncased'\n",
        "tokenizer = AutoTokenizer.from_pretrained(db_model_name)"
      ],
      "metadata": {
        "colab": {
          "base_uri": "https://localhost:8080/",
          "height": 145,
          "referenced_widgets": [
            "ea039f22501b40f3afeb9b90244c726f",
            "fba8f9012d4547b789778abcb24cd07e",
            "c5f2d3246aff4097bf049571964ee1e3",
            "a47a0e99f35344abaf56218e138f822f",
            "ef0982f0eae6443da9b2b7a4118435b1",
            "0b60a375ef63433a88c7f8bbea55b191",
            "9934a851de924bf7b838259de1a32f92",
            "f3de6e8e6cc34816ac85905ff2f109d4",
            "4ef486a2455a4732a86705ede4842c41",
            "f53eb8280a174c0fa5979ca2953b3c9a",
            "b520b832628b4038a8ae21739cb9ac40",
            "19f06476e3164592b2d61563e8db5866",
            "283ad8812f1644708cd68ba069aac4ab",
            "5c76d32466174e958dabba1c2a0db8c7",
            "c3976cb64b6b491c9af178b526395fb0",
            "2a071359208449d59de8c3fa2de0e666",
            "c347fd79e506423d98a095ca7883a41e",
            "d6efc08b40df4c51954ff940b951f5a5",
            "d20dfe2c39ec4fffb70f72feaa3a7c80",
            "25d0879dc7154761a21e97ecf49d677a",
            "8d42a2ec4839498ab08f7cc97628ea76",
            "ce7af37dd173491e93602bf2dc9e473f",
            "39eaa9f36f314a6d8cc9f79ae5ecfc97",
            "522c3da9fc3b479796a8b55d5426a01e",
            "81d4ba6d1e2b4f4daeca4f4cc5f1cec1",
            "7ed8e1ef932b4b06a00b9c5abf743c35",
            "d4ad8fde738447b0bc54eeb403b39561",
            "e090dc2a77ad42728fafd34ca36d6bf5",
            "4632cf97922a497ea6995628cd14161a",
            "d13fd74533324291a5a5af020db9a9d9",
            "25c3fe3d8fe744e3b9a24e0235222158",
            "2a222c5689d9452990cb7a2ae4dd5591",
            "42992018a34d471c907de31e38cd6d39",
            "191700e33d0f4ae7a2aafce9d822d998",
            "cdba665b60274b159371e00f4a750c59",
            "e3a61fde4e9349d9a8a34f185d8562e9",
            "053cd00cbd294b80b44f8b18d56dc1b3",
            "0f8c901ec64242d09577b9961240b20e",
            "4e3fccb4d38247afaffca2dbccf32cde",
            "d50ce516ceb3493aa67fc6ae173f72c5",
            "0a5ec28fea7246aaa79966289c78995e",
            "c5db2fcfcfa243aabd33a77d6dfbfdf8",
            "b02522720b1e4c30838792891e760fc8",
            "59dd8599c13044a0ba5d80025444c9fa"
          ]
        },
        "id": "omSPbwya3BXU",
        "outputId": "248f62a9-0c95-4658-d957-dacb4e7ced47"
      },
      "execution_count": null,
      "outputs": [
        {
          "output_type": "display_data",
          "data": {
            "text/plain": [
              "tokenizer_config.json:   0%|          | 0.00/28.0 [00:00<?, ?B/s]"
            ],
            "application/vnd.jupyter.widget-view+json": {
              "version_major": 2,
              "version_minor": 0,
              "model_id": "ea039f22501b40f3afeb9b90244c726f"
            }
          },
          "metadata": {}
        },
        {
          "output_type": "display_data",
          "data": {
            "text/plain": [
              "config.json:   0%|          | 0.00/483 [00:00<?, ?B/s]"
            ],
            "application/vnd.jupyter.widget-view+json": {
              "version_major": 2,
              "version_minor": 0,
              "model_id": "19f06476e3164592b2d61563e8db5866"
            }
          },
          "metadata": {}
        },
        {
          "output_type": "display_data",
          "data": {
            "text/plain": [
              "vocab.txt:   0%|          | 0.00/232k [00:00<?, ?B/s]"
            ],
            "application/vnd.jupyter.widget-view+json": {
              "version_major": 2,
              "version_minor": 0,
              "model_id": "39eaa9f36f314a6d8cc9f79ae5ecfc97"
            }
          },
          "metadata": {}
        },
        {
          "output_type": "display_data",
          "data": {
            "text/plain": [
              "tokenizer.json:   0%|          | 0.00/466k [00:00<?, ?B/s]"
            ],
            "application/vnd.jupyter.widget-view+json": {
              "version_major": 2,
              "version_minor": 0,
              "model_id": "191700e33d0f4ae7a2aafce9d822d998"
            }
          },
          "metadata": {}
        }
      ]
    },
    {
      "cell_type": "code",
      "source": [
        "max_seq_len = 512"
      ],
      "metadata": {
        "id": "x7P3TbJefa2y"
      },
      "execution_count": 3,
      "outputs": []
    },
    {
      "cell_type": "code",
      "source": [
        "def encode_text_to_dataset(tokenizer, x_train, x_val, x_test, y_train, y_val, y_test):\n",
        "  x_train_enc = tokenizer(\n",
        "      x_train.to_list(),\n",
        "      max_length=max_seq_len,\n",
        "      add_special_tokens=True,\n",
        "      return_tensors='np'\n",
        "  )\n",
        "\n",
        "  x_val_enc = tokenizer(\n",
        "      x_val.to_list(),\n",
        "      max_length=max_seq_len,\n",
        "      add_special_tokens=True,\n",
        "      return_tensors='np'\n",
        "  )\n",
        "\n",
        "  x_test_enc = tokenizer(\n",
        "      x_test.to_list(),\n",
        "      max_length=max_seq_len,\n",
        "      add_special_tokens=True,\n",
        "      return_tensors='np'\n",
        "  )\n",
        "\n",
        "  train_dataset = tf.data.Dataset.from_tensor_slices((\n",
        "      dict(x_train_enc),\n",
        "      y_train\n",
        "  ))\n",
        "\n",
        "  val_dataset = tf.data.Dataset.from_tensor_slices((\n",
        "      dict(x_val_enc),\n",
        "      y_val\n",
        "  ))\n",
        "\n",
        "  test_dataset = tf.data.Dataset.from_tensor_slices((\n",
        "      dict(x_test_enc),\n",
        "      y_test\n",
        "  ))\n",
        "\n",
        "  return train_dataset, val_dataset, test_dataset"
      ],
      "metadata": {
        "id": "TbBwSutnBlhX"
      },
      "execution_count": null,
      "outputs": []
    },
    {
      "cell_type": "code",
      "source": [
        "train_dataset, val_dataset, test_dataset = encode_text_to_dataset(tokenizer, x_train, x_val, x_test, y_train, y_val, y_test)"
      ],
      "metadata": {
        "id": "6A_7LfGhxISH"
      },
      "execution_count": null,
      "outputs": []
    },
    {
      "cell_type": "markdown",
      "source": [
        "# Model Building"
      ],
      "metadata": {
        "id": "lBftSPQLgF7s"
      }
    },
    {
      "cell_type": "code",
      "source": [
        "distilbert_model = TFDistilBertModel.from_pretrained(db_model_name)"
      ],
      "metadata": {
        "id": "x2uqWuQyBld9"
      },
      "execution_count": null,
      "outputs": []
    },
    {
      "cell_type": "code",
      "source": [
        "distilbert_model.trainable = False"
      ],
      "metadata": {
        "id": "9C_9TxU-BlbI"
      },
      "execution_count": null,
      "outputs": []
    },
    {
      "cell_type": "code",
      "source": [
        "from tensorflow.keras.layers import (\n",
        "    Dense,\n",
        "    Input,\n",
        "    Dropout,\n",
        "    Conv1D,\n",
        "    BatchNormalization\n",
        ")\n",
        "\n",
        "from tensorflow.keras.models import Model\n",
        "from tensorflow.keras.optimizers immport Adam"
      ],
      "metadata": {
        "id": "KMrikx1KBlYi"
      },
      "execution_count": null,
      "outputs": []
    },
    {
      "cell_type": "code",
      "source": [
        "def db_model(train_dataset, val_dataset, model, max_len, epochs):\n",
        "  print(\"------------------Building the model -------------------------\")\n",
        "  input_ids = Input(\n",
        "      shape=(max_len, ),\n",
        "      dtype=tf.int32,\n",
        "      name='input_ids'\n",
        "  )\n",
        "\n",
        "  attention_mask = Input(\n",
        "      shape=(max_len, ),\n",
        "      dtype=tf.int32,\n",
        "      name='attention_mask'\n",
        "  )\n",
        "\n",
        "  sequence_output = model(\n",
        "      input_ids,\n",
        "      attention_mask\n",
        "  )[0]\n",
        "\n",
        "  cls_token = sequence_output[:, 0, :]\n",
        "  x = BatchNormalization()(cls_token)\n",
        "  x = Dense(512, activation='relu')(x)\n",
        "  x = Dropout(0.5)(x)\n",
        "  y = Dense(1, activation='sigmoid')(x)\n",
        "\n",
        "  transformer_model = Model(\n",
        "      inputs=[input_ids, attention_mask],\n",
        "      outputs=y,\n",
        "  )\n",
        "\n",
        "  transformer_model.summary()\n",
        "  transformer_model.compile(\n",
        "      Adam(lr=2e-5),\n",
        "      loss='binary_crossentropy',\n",
        "      metrics=['accuracy' ,'Precision']\n",
        "  )\n",
        "\n",
        "  return transformer_model"
      ],
      "metadata": {
        "id": "-nSLlyR5BlWK"
      },
      "execution_count": null,
      "outputs": []
    },
    {
      "cell_type": "code",
      "source": [
        "epochs = 2\n",
        "dbert_model = db_model(\n",
        "    train_dataset,\n",
        "    val_dataset,\n",
        "    distilbert_model,\n",
        "    max_seq_len,\n",
        "    epochs\n",
        ")"
      ],
      "metadata": {
        "id": "WpVtdf_3BlTn"
      },
      "execution_count": null,
      "outputs": []
    },
    {
      "cell_type": "code",
      "source": [
        "dbert_image_path = \"\"\n",
        "plot_model(\n",
        "    dbert_model,\n",
        "    to_file=dbert_image_path,\n",
        "    expand_nested=True,\n",
        "    show_shapes=True\n",
        ")"
      ],
      "metadata": {
        "id": "1gxwOW3FBlRN"
      },
      "execution_count": null,
      "outputs": []
    },
    {
      "cell_type": "code",
      "source": [
        "BATCH_SIZE = 128\n",
        "dbert_model_history = dbert_model.fit(\n",
        "    train_dataset.batch(BATCH_SIZE),\n",
        "    batch_size=BATCH_SIZE,\n",
        "    validation_data=val_dataset.batch(BATCH_SIZE),\n",
        "    epochs=epochs\n",
        ")"
      ],
      "metadata": {
        "id": "8_5uHt8lBlO3"
      },
      "execution_count": null,
      "outputs": []
    },
    {
      "cell_type": "code",
      "source": [
        "dbert_model_history.history.keys()"
      ],
      "metadata": {
        "id": "eXTegT2JBlMe"
      },
      "execution_count": null,
      "outputs": []
    },
    {
      "cell_type": "markdown",
      "source": [
        "# Plotting Accuracy Graph"
      ],
      "metadata": {
        "id": "6FekPbf-jTZP"
      }
    },
    {
      "cell_type": "code",
      "source": [
        "plt.figure()\n",
        "\n",
        "plt.subplot(2, 1, 0)\n",
        "plt.plot(dbert_model_history['accuracy'], label='Train')\n",
        "plt.plot(dbert_model_history['val_accuracy'], label='Test')\n",
        "\n",
        "plt.subplot(2, 1, 1)\n",
        "plt.plot(dbert_model_history['Precision'], label='Train')\n",
        "plt.plot(dbert_model_history['val_Precision'], label='Test')\n",
        "\n",
        "plt.subplot(2, 2, 1)\n",
        "plt.plot(dbert_model_history['loss'], label='Train')\n",
        "plt.plot(dbert_model_history['val_loss'], label='Test')\n"
      ],
      "metadata": {
        "id": "hazkqHU3BlKI"
      },
      "execution_count": null,
      "outputs": []
    },
    {
      "cell_type": "code",
      "source": [
        "dbert_y_pred_logits = model.predict(test_dataset)\n",
        "dbert_y_pred = [1 if logits > 0.5 else 0 for logits in dbert_y_pred_logits]"
      ],
      "metadata": {
        "id": "-0jW28GYBlH0"
      },
      "execution_count": null,
      "outputs": []
    },
    {
      "cell_type": "code",
      "source": [
        "def metrics(y_test, y_pred):\n",
        "    print('Accuracy: ', accuracy_score(y_test, y_pred))\n",
        "    print('Precision: ', precision_score(y_test, y_pred))\n",
        "    print('Recall: ', recall_score(y_test, y_pred))\n",
        "    print('F_Score: ', f1_score(y_test, y_pred))\n",
        "    print('Classification Report')\n",
        "    print(classification_report(y_test, y_pred))\n",
        "    print('Confusion Matrix')\n",
        "    print(confusion_matrix(y_test, y_pred))"
      ],
      "metadata": {
        "id": "RoCr9aabkRAb"
      },
      "execution_count": null,
      "outputs": []
    },
    {
      "cell_type": "code",
      "source": [],
      "metadata": {
        "id": "Lhyf_LoYxy66"
      },
      "execution_count": null,
      "outputs": []
    },
    {
      "cell_type": "code",
      "source": [
        "db_model_save_path = \"\"\n",
        "dbert_model.save(db_model_save_path)"
      ],
      "metadata": {
        "id": "K_wYUD_ykQ81"
      },
      "execution_count": null,
      "outputs": []
    },
    {
      "cell_type": "markdown",
      "source": [
        "## Loading Model"
      ],
      "metadata": {
        "id": "13aK6GCEklTI"
      }
    },
    {
      "cell_type": "code",
      "source": [
        "dbert_model = tf.keras.models.load_model(\n",
        "    db_model_save_path,\n",
        "    custom_objects={\n",
        "        'TFDistilBertModel': TFDistilBertModel\n",
        "    }\n",
        ")"
      ],
      "metadata": {
        "id": "SOPnut4PkQ6u"
      },
      "execution_count": null,
      "outputs": []
    },
    {
      "cell_type": "code",
      "source": [
        "def make_prediction(model, processed_data):\n",
        "  probs = model.predict(processed_data)\n",
        "  results = []\n",
        "  for prob in probs:\n",
        "    if prob <= 0.5:\n",
        "      results.append(\"Negative\")\n",
        "    else:\n",
        "      results.append(\"Positive\")\n",
        "  return results"
      ],
      "metadata": {
        "id": "TXO6dSHxnRM2"
      },
      "execution_count": null,
      "outputs": []
    },
    {
      "cell_type": "code",
      "source": [
        "def bert_encode_input(data, max_len):\n",
        "  input_ids = []\n",
        "  attention_masks = []\n",
        "\n",
        "  for i in range(len(data)):\n",
        "    encoded = tokenizer.encode_plus(\n",
        "        data[i],\n",
        "        add_special_tokens=True,\n",
        "        max_length=max_len,\n",
        "        pad_to_max_length=True,\n",
        "        return_attention_mask=True\n",
        "    )\n",
        "\n",
        "    input_ids.append(encoded['input_ids'])\n",
        "    attention_masks.append(encoded['attention_mask'])\n",
        "\n",
        "  return np.array(input_ids), np.array(attention_masks)"
      ],
      "metadata": {
        "id": "3cfl_daHk2pu"
      },
      "execution_count": null,
      "outputs": []
    },
    {
      "cell_type": "code",
      "source": [
        "n = int(input())\n",
        "\n",
        "input_text = []\n",
        "\n",
        "for i in range(n):\n",
        "  line = input()\n",
        "  input_text.append(line)\n",
        "\n",
        "input_text"
      ],
      "metadata": {
        "id": "rv9VMkZlmsD0"
      },
      "execution_count": null,
      "outputs": []
    },
    {
      "cell_type": "code",
      "source": [
        "preprocess_input = preprocess(input_text)\n",
        "print(preprocess_input)\n",
        "\n",
        "input_ids, attention_masks = bert_encode_input(\n",
        "    processed_input,\n",
        "    max_seq_len\n",
        ")\n",
        "\n",
        "print(input_ids)\n",
        "\n",
        "result = make_prediction(\n",
        "    dbert_model,\n",
        "    [input_ids, attention_masks]\n",
        ")\n",
        "\n",
        "print(f\"Predicted Sentiment: {result}\")"
      ],
      "metadata": {
        "id": "_5wcvNsJmnk9"
      },
      "execution_count": null,
      "outputs": []
    },
    {
      "cell_type": "markdown",
      "source": [
        "# Deployment"
      ],
      "metadata": {
        "id": "6ARAUhyln7Ax"
      }
    },
    {
      "cell_type": "code",
      "source": [
        "import tempfile\n",
        "import os\n",
        "\n",
        "MODEL_DIR = \"\"\n",
        "version = 1\n",
        "export_path = os.path.join(MODEL_DIR, str(version))\n",
        "\n",
        "print(f\"Export Path: {export_path}\")\n",
        "\n",
        "\n",
        "tf.keras.models.save_model(\n",
        "    dbert_model,\n",
        "    export_path,\n",
        "    overwrite=True,\n",
        "    include_optimizer=True,\n",
        "    save_format=None,\n",
        "    signatures=None,\n",
        "    options=None\n",
        ")"
      ],
      "metadata": {
        "id": "gowUloTYmniM"
      },
      "execution_count": null,
      "outputs": []
    },
    {
      "cell_type": "markdown",
      "source": [
        "### Check the model stats using saved model cli"
      ],
      "metadata": {
        "id": "9JiF5_NNoZMW"
      }
    },
    {
      "cell_type": "code",
      "source": [
        "! saved_model_cli show --dir f\"{MODEL_DIR}\" --all"
      ],
      "metadata": {
        "id": "pLr-QOwFoVv7"
      },
      "execution_count": null,
      "outputs": []
    },
    {
      "cell_type": "markdown",
      "source": [
        "### Installation of TF Serving on Server"
      ],
      "metadata": {
        "id": "IN2vihfaoq2J"
      }
    },
    {
      "cell_type": "code",
      "source": [
        "! echo \"deb http://storage.googleapis.com/tensorflow-serving-apt stable tensorflow-model-server tensorflow-model-server-universal\" | tee /etc/apt/sources.list.d/tensorflow-serving.list && \\\n",
        "curl https://storage.googleapis.com/tensorflow-serving-apt/tensorflow-serving.release.pub.gpg | apt-key add -\n",
        "!apt update"
      ],
      "metadata": {
        "id": "mr2dKuGpoVtT"
      },
      "execution_count": null,
      "outputs": []
    },
    {
      "cell_type": "code",
      "source": [
        "! apt-get install tensorflow-model-server"
      ],
      "metadata": {
        "id": "DigkK7yQoVq0"
      },
      "execution_count": null,
      "outputs": []
    },
    {
      "cell_type": "code",
      "source": [
        "! apt-get upgrade tensorflow-model-server"
      ],
      "metadata": {
        "id": "Geisdaj6oVoM"
      },
      "execution_count": null,
      "outputs": []
    },
    {
      "cell_type": "code",
      "source": [
        "os.environ['MODEL_DIR'] = MODEL_DIR"
      ],
      "metadata": {
        "id": "xJ3pK7m0k2mM"
      },
      "execution_count": null,
      "outputs": []
    },
    {
      "cell_type": "markdown",
      "source": [
        "### Start the server in BG"
      ],
      "metadata": {
        "id": "0rbODwlxpmpr"
      }
    },
    {
      "cell_type": "code",
      "source": [
        "%%bash --bg\n",
        "\n",
        "nohup tensorflow_model_server \\\n",
        "  --rest_api_port=8501 \\\n",
        "  --model_name=bert_model \\\n",
        "  --model_base_path=\"${MODEL_DIR}\" >server.log 2>%1"
      ],
      "metadata": {
        "id": "Xs0ExntapgDr"
      },
      "execution_count": null,
      "outputs": []
    },
    {
      "cell_type": "code",
      "source": [
        "!tail server.log"
      ],
      "metadata": {
        "id": "GMW3zwXOpgAz"
      },
      "execution_count": null,
      "outputs": []
    },
    {
      "cell_type": "markdown",
      "source": [
        "## Client Side Implementation"
      ],
      "metadata": {
        "id": "pfSC5KqZqGLO"
      }
    },
    {
      "cell_type": "code",
      "source": [
        "import json\n",
        "\n",
        "data = json.dumps({\n",
        "    \"signature_name\": \"serving_default\",\n",
        "    \"inputs\": {\n",
        "        'inputs_ids': input_ids.tolist(),\n",
        "        'attention_mask': attention_masks.tolist()\n",
        "    }\n",
        "})\n",
        "\n",
        "print(f\"Data: {data} ... {len(data)}\")"
      ],
      "metadata": {
        "id": "Lz3udx6upf7z"
      },
      "execution_count": null,
      "outputs": []
    },
    {
      "cell_type": "code",
      "source": [
        "! pip install -q requests"
      ],
      "metadata": {
        "id": "v3zDBCaMpf5i"
      },
      "execution_count": null,
      "outputs": []
    },
    {
      "cell_type": "code",
      "source": [
        "import requests\n",
        "\n",
        "headers = {'content-type': \"application/json\"}\n",
        "\n",
        "json_response = requests.post(\n",
        "    \"http://localhost:8501/v1/models/bert_model:predict\",\n",
        "    data=data,\n",
        "    headers=headers\n",
        ")\n",
        "\n",
        "predictions = json.loads(json_response.text)\n",
        "\n",
        "print(predictions)\n",
        "\n",
        "class_names = {\n",
        "    0: 'Negative',\n",
        "    1: 'Positive'\n",
        "}\n",
        "\n",
        "print(round(predictions['outputs'][0][0]))\n",
        "\n",
        "print(f\"Sentiment Class of given Sentence is {class_names[round(predictions['outputs'][0][0])]}\")\n"
      ],
      "metadata": {
        "id": "ybESjMESpf2q"
      },
      "execution_count": null,
      "outputs": []
    },
    {
      "cell_type": "code",
      "source": [
        "import requests\n",
        "\n",
        "headers = {\"content-type\": \"application/json\"}\n",
        "\n",
        "json_response = requests.post(\n",
        "    \"http://localhost:8501/v1/models/bert_model:predict\",\n",
        "    data=data,\n",
        "    headers=headers\n",
        ")\n",
        "\n",
        "predictions = json.loads(json_resposne.text)\n",
        "\n",
        "print(predictions)\n",
        "\n",
        "class_names = {\n",
        "    0: \"Negatives\",\n",
        "    1: 'Positives'\n",
        "}\n",
        "\n",
        "print(round(predictions['outputs'][0][0]))\n",
        "\n",
        "for i in range(len(predictions['outputs'])):\n",
        "  print(f\"Sentiment Class of {input_text[i]} Sentence is: {class_names[round(predictions['outputs'][i][0])]}\")"
      ],
      "metadata": {
        "id": "Xx7ai1m1tdqv"
      },
      "execution_count": null,
      "outputs": []
    },
    {
      "cell_type": "markdown",
      "source": [
        "# BERT Model"
      ],
      "metadata": {
        "id": "xp84WSueuX5k"
      }
    },
    {
      "cell_type": "code",
      "source": [
        "bert_model_name = 'bert-base-uncased'\n",
        "bert_tokenizer = AutoTokenizer.from_pretrained(bert_model_name)"
      ],
      "metadata": {
        "id": "P19SkH-0uXxT"
      },
      "execution_count": null,
      "outputs": []
    },
    {
      "cell_type": "markdown",
      "source": [
        "## Encoding BERT"
      ],
      "metadata": {
        "id": "BcTEIf1ZumJ4"
      }
    },
    {
      "cell_type": "code",
      "source": [
        "bert_model = TFBertModel.from_pretrained(bert_model_name)\n",
        "bert_model.trainable = False"
      ],
      "metadata": {
        "id": "OOxKHA_7uXu6"
      },
      "execution_count": null,
      "outputs": []
    },
    {
      "cell_type": "code",
      "source": [
        "def bert_model_init(train_dataset, val_dataset, model, max_len, epochs):\n",
        "  print(\"------------------Building the model -------------------------\")\n",
        "  input_ids = Input(\n",
        "      shape=(max_len, ),\n",
        "      dtype=tf.int32,\n",
        "      name='input_ids'\n",
        "  )\n",
        "\n",
        "  attention_mask = Input(\n",
        "      shape=(max_len, ),\n",
        "      dtype=tf.int32,\n",
        "      name='attention_mask'\n",
        "  )\n",
        "\n",
        "  sequence_output = model(\n",
        "      input_ids,\n",
        "      attention_mask\n",
        "  )[0]\n",
        "\n",
        "  cls_token = sequence_output[:, 0, :]\n",
        "  x = BatchNormalization()(cls_token)\n",
        "  x = Dense(512, activation='relu')(x)\n",
        "  x = Dropout(0.5)(x)\n",
        "  y = Dense(1, activation='sigmoid')(x)\n",
        "\n",
        "  transformer_model = Model(\n",
        "      inputs=[input_ids, attention_mask],\n",
        "      outputs=y,\n",
        "  )\n",
        "\n",
        "  transformer_model.summary()\n",
        "  transformer_model.compile(\n",
        "      Adam(lr=1e-3),\n",
        "      loss='binary_crossentropy',\n",
        "      metrics=['accuracy' ,'Precision']\n",
        "  )\n",
        "\n",
        "  return transformer_model"
      ],
      "metadata": {
        "id": "LUanE3CIuXsL"
      },
      "execution_count": null,
      "outputs": []
    },
    {
      "cell_type": "code",
      "source": [
        "train_bert_dataset, val_bert_dataset, test_bert_dataset = encode_text_to_dataset(bert_tokenizer, x_train, x_val, x_test, y_train, y_val, y_test)"
      ],
      "metadata": {
        "id": "zVxSazRCxTHg"
      },
      "execution_count": null,
      "outputs": []
    },
    {
      "cell_type": "code",
      "source": [
        "epochs = 2\n",
        "model_bert = bert_model_init(\n",
        "    train_bert_dataset,\n",
        "    val_bert_dataset,\n",
        "    bert_model,\n",
        "    max_seq_len\n",
        ")"
      ],
      "metadata": {
        "id": "hQjqffinuXp8"
      },
      "execution_count": null,
      "outputs": []
    },
    {
      "cell_type": "code",
      "source": [
        "bert_img_path = \"\"\n",
        "plot_model(\n",
        "    model_bert,\n",
        "    to_file=bert_img_path,\n",
        "    expand_nested=True,\n",
        "    show_shapes=True\n",
        ")"
      ],
      "metadata": {
        "id": "cL8S_kQguXnL"
      },
      "execution_count": null,
      "outputs": []
    },
    {
      "cell_type": "code",
      "source": [
        "BATCH_SIZE = 128\n",
        "model_bert_history = model_bert.fit(\n",
        "    train_bert_dataset.batch(BATCH_SIZE),\n",
        "    batch_size=BATCH_SIZE,\n",
        "    validation_data=val_bert_dataset.batch(BATCH_SIZE),\n",
        "    epochs=epochs\n",
        ")"
      ],
      "metadata": {
        "id": "GodEWNQhuXku"
      },
      "execution_count": null,
      "outputs": []
    },
    {
      "cell_type": "code",
      "source": [
        "plt.figure()\n",
        "\n",
        "plt.subplot(2, 1, 0)\n",
        "plt.plot(model_bert_history['accuracy'], label='Train')\n",
        "plt.plot(model_bert_history['val_accuracy'], label='Test')\n",
        "\n",
        "plt.subplot(2, 1, 1)\n",
        "plt.plot(model_bert_history['Precision'], label='Train')\n",
        "plt.plot(model_bert_history['val_Precision'], label='Test')\n",
        "\n",
        "plt.subplot(2, 2, 1)\n",
        "plt.plot(model_bert_history['loss'], label='Train')\n",
        "plt.plot(model_bert_history['val_loss'], label='Test')"
      ],
      "metadata": {
        "id": "UUE5UiXPxdRY"
      },
      "execution_count": null,
      "outputs": []
    },
    {
      "cell_type": "code",
      "source": [
        "bert_y_pred_logits = model_bert.predict(test_dataset)\n",
        "bert_y_pred = [1 if logits > 0.5 else 0 for logits in bert_y_pred_logits]"
      ],
      "metadata": {
        "id": "-XCTI-HoyYTy"
      },
      "execution_count": null,
      "outputs": []
    },
    {
      "cell_type": "markdown",
      "source": [
        "# Roberta"
      ],
      "metadata": {
        "id": "_zgJgv9MwyyO"
      }
    },
    {
      "cell_type": "code",
      "source": [
        "roberta_model_name = 'roberta-base'\n",
        "roberta_tokenizer = AutoTokenizer.from_pretrained(roberta_model_name)"
      ],
      "metadata": {
        "id": "SvtbwqkNuXiE"
      },
      "execution_count": null,
      "outputs": []
    },
    {
      "cell_type": "code",
      "source": [
        "roberta_model = TFRobertaModel.from_pretrained(roberta_model_name)"
      ],
      "metadata": {
        "id": "M1xNjXv0tdne"
      },
      "execution_count": null,
      "outputs": []
    },
    {
      "cell_type": "code",
      "source": [
        "train_roberta_dataset, val_roberta_dataset, test_roberta_dataset = encode_text_to_dataset(roberta_tokenizer, x_train, x_val, x_test, y_train, y_val, y_test)"
      ],
      "metadata": {
        "id": "MscGNRZ9y2-b"
      },
      "execution_count": null,
      "outputs": []
    },
    {
      "cell_type": "code",
      "source": [
        "def roberta_model_init(train_dataset, val_dataset, model, max_len, epochs):\n",
        "  print(\"------------------Building the model -------------------------\")\n",
        "  input_ids = Input(\n",
        "      shape=(max_len, ),\n",
        "      dtype=tf.int32,\n",
        "      name='input_ids'\n",
        "  )\n",
        "\n",
        "  attention_mask = Input(\n",
        "      shape=(max_len, ),\n",
        "      dtype=tf.int32,\n",
        "      name='attention_mask'\n",
        "  )\n",
        "\n",
        "  sequence_output = model(\n",
        "      input_ids,\n",
        "      attention_mask\n",
        "  )[0]\n",
        "\n",
        "  cls_token = sequence_output[:, 0, :]\n",
        "  x = BatchNormalization()(cls_token)\n",
        "  x = Dense(512, activation='relu')(x)\n",
        "  x = Dropout(0.5)(x)\n",
        "  y = Dense(1, activation='sigmoid')(x)\n",
        "\n",
        "  transformer_model = Model(\n",
        "      inputs=[input_ids, attention_mask],\n",
        "      outputs=y,\n",
        "  )\n",
        "\n",
        "  transformer_model.summary()\n",
        "  transformer_model.compile(\n",
        "      Adam(lr=1e-3),\n",
        "      loss='binary_crossentropy',\n",
        "      metrics=['accuracy' ,'Precision']\n",
        "  )\n",
        "\n",
        "  return transformer_model"
      ],
      "metadata": {
        "id": "RqW3ouPYy_Zd"
      },
      "execution_count": null,
      "outputs": []
    },
    {
      "cell_type": "code",
      "source": [
        "epochs = 2\n",
        "model_roberta = roberta_model_init(\n",
        "    train_roberta_dataset,\n",
        "    val_roberta_dataset,\n",
        "    test_roberta_dataset,\n",
        "    roberta_model,\n",
        "    max_seq_len\n",
        ")"
      ],
      "metadata": {
        "id": "6lNojlpYy_W2"
      },
      "execution_count": null,
      "outputs": []
    },
    {
      "cell_type": "code",
      "source": [
        "roberta_img_path = \"\"\n",
        "plot_model(\n",
        "    model_roberta,\n",
        "    to_file=roberta_img_path,\n",
        "    expand_nested=True,\n",
        "    show_shapes=True\n",
        ")"
      ],
      "metadata": {
        "id": "PaEsBxqEzpk-"
      },
      "execution_count": null,
      "outputs": []
    },
    {
      "cell_type": "code",
      "source": [
        "BATCH_SIZE = 128\n",
        "model_roberta_history = model_roberta.fit(\n",
        "    train_roberta_dataset.batch(BATCH_SIZE),\n",
        "    batch_size=BATCH_SIZE,\n",
        "    validation_data=val_roberta_dataset.batch(BATCH_SIZE),\n",
        "    epochs=epochs\n",
        ")"
      ],
      "metadata": {
        "id": "XkAQMvojz1ey"
      },
      "execution_count": null,
      "outputs": []
    },
    {
      "cell_type": "code",
      "source": [
        "plt.figure()\n",
        "\n",
        "plt.subplot(2, 1, 0)\n",
        "plt.plot(model_roberta_history['accuracy'], label='Train')\n",
        "plt.plot(model_roberta_history['val_accuracy'], label='Test')\n",
        "\n",
        "plt.subplot(2, 1, 1)\n",
        "plt.plot(model_roberta_history['Precision'], label='Train')\n",
        "plt.plot(model_roberta_history['val_Precision'], label='Test')\n",
        "\n",
        "plt.subplot(2, 2, 1)\n",
        "plt.plot(model_roberta_history['loss'], label='Train')\n",
        "plt.plot(model_roberta_history['val_loss'], label='Test')"
      ],
      "metadata": {
        "id": "ZGGe0xdP2AnT"
      },
      "execution_count": null,
      "outputs": []
    },
    {
      "cell_type": "code",
      "source": [
        "roberta_y_pred_logits = model_roberta.predict(test_dataset)\n",
        "roberta_y_pred = [1 if logits > 0.5 else 0 for logits in roberta_y_pred_logits]"
      ],
      "metadata": {
        "id": "FL1lLgfy2IHE"
      },
      "execution_count": null,
      "outputs": []
    },
    {
      "cell_type": "markdown",
      "source": [
        "# XLNET"
      ],
      "metadata": {
        "id": "IbY27qcy2NpO"
      }
    },
    {
      "cell_type": "code",
      "source": [
        "xlnet_model_name = \"xlnet-base-cased\"\n",
        "xlnet_tokenizer = AutoTokenizer.from_pretrained(xlnet_model_name)"
      ],
      "metadata": {
        "id": "baSlP4zc2OyE"
      },
      "execution_count": null,
      "outputs": []
    },
    {
      "cell_type": "code",
      "source": [
        "xlnet_model = TFXLNetModel.from_pretrained(xlnet_model_name)"
      ],
      "metadata": {
        "id": "WckEvuQL2k8R"
      },
      "execution_count": null,
      "outputs": []
    },
    {
      "cell_type": "code",
      "source": [
        "train_xlnet_dataset, val_xlnet_dataset, test_xlnet_dataset = encode_text_to_dataset(xlnet_tokenizer, x_train, x_val, x_test, y_train, y_val, y_test)"
      ],
      "metadata": {
        "id": "TZr6iaq52k55"
      },
      "execution_count": null,
      "outputs": []
    },
    {
      "cell_type": "code",
      "source": [
        "def xlnet_model_init(train_dataset, val_dataset, model, max_len, epochs):\n",
        "  print(\"------------------Building the model -------------------------\")\n",
        "  input_ids = Input(\n",
        "      shape=(max_len, ),\n",
        "      dtype=tf.int32,\n",
        "      name='input_ids'\n",
        "  )\n",
        "\n",
        "  attention_mask = Input(\n",
        "      shape=(max_len, ),\n",
        "      dtype=tf.int32,\n",
        "      name='attention_mask'\n",
        "  )\n",
        "\n",
        "  sequence_output = model(\n",
        "      input_ids,\n",
        "      attention_mask\n",
        "  )[0]\n",
        "\n",
        "  cls_token = sequence_output[:, 0, :]\n",
        "  x = BatchNormalization()(cls_token)\n",
        "  x = Dense(512, activation='relu')(x)\n",
        "  x = Dropout(0.5)(x)\n",
        "  y = Dense(1, activation='sigmoid')(x)\n",
        "\n",
        "  transformer_model = Model(\n",
        "      inputs=[input_ids, attention_mask],\n",
        "      outputs=y,\n",
        "  )\n",
        "\n",
        "  transformer_model.summary()\n",
        "  transformer_model.compile(\n",
        "      Adam(lr=1e-3),\n",
        "      loss='binary_crossentropy',\n",
        "      metrics=['accuracy' ,'Precision']\n",
        "  )\n",
        "\n",
        "  return transformer_model"
      ],
      "metadata": {
        "id": "nSD5CVaH23NT"
      },
      "execution_count": null,
      "outputs": []
    },
    {
      "cell_type": "code",
      "source": [
        "epochs = 2\n",
        "model_xlnet = xlnet_model_init(\n",
        "    train_xlnet_dataset,\n",
        "    val_xlnet_dataset,\n",
        "    test_xlnet_dataset,\n",
        "    max_seq_len\n",
        "    )"
      ],
      "metadata": {
        "id": "PKKCddtT28gL"
      },
      "execution_count": null,
      "outputs": []
    },
    {
      "cell_type": "code",
      "source": [
        "xlnet_img_path = \"\"\n",
        "plot_model(\n",
        "    model_xlnet,\n",
        "    to_file=xlnet_img_path,\n",
        "    expand_nested=True,\n",
        "    show_shapes=True\n",
        ")"
      ],
      "metadata": {
        "id": "NJjhBBx53Q5m"
      },
      "execution_count": null,
      "outputs": []
    },
    {
      "cell_type": "code",
      "source": [
        "BATCH_SIZE = 128\n",
        "model_xlnet_history = model_xlnet.fit(\n",
        "    train_xlnet_dataset.batch(BATCH_SIZE),\n",
        "    batch_size=BATCH_SIZE,\n",
        "    validation_data=val_xlnet_dataset.batch(BATCH_SIZE),\n",
        "    epochs=epochs\n",
        ")"
      ],
      "metadata": {
        "id": "p0uS8Zse3Q3N"
      },
      "execution_count": null,
      "outputs": []
    },
    {
      "cell_type": "code",
      "source": [
        "plt.figure()\n",
        "\n",
        "plt.subplot(2, 1, 0)\n",
        "plt.plot(model_xlnet_history['accuracy'], label='Train')\n",
        "plt.plot(model_xlnet_history['val_accuracy'], label='Test')\n",
        "\n",
        "plt.subplot(2, 1, 1)\n",
        "plt.plot(model_xlnet_history['Precision'], label='Train')\n",
        "plt.plot(model_xlnet_history['val_Precision'], label='Test')\n",
        "\n",
        "plt.subplot(2, 2, 1)\n",
        "plt.plot(model_xlnet_history['loss'], label='Train')\n",
        "plt.plot(model_xlnet_history['val_loss'], label='Test')"
      ],
      "metadata": {
        "id": "5zBaDwoi3QyW"
      },
      "execution_count": null,
      "outputs": []
    },
    {
      "cell_type": "code",
      "source": [
        "xlnet_y_pred_logits = model_xlnet.predict(test_dataset)\n",
        "xlnet_y_pred = [1 if logits > 0.5 else 0 for logits in xlnet_y_pred_logits]"
      ],
      "metadata": {
        "id": "viw7gNPI3QvW"
      },
      "execution_count": null,
      "outputs": []
    }
  ]
}